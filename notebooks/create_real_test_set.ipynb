{
 "cells": [
  {
   "cell_type": "code",
   "execution_count": 2,
   "metadata": {},
   "outputs": [],
   "source": [
    "%load_ext autoreload\n",
    "%autoreload 2"
   ]
  },
  {
   "cell_type": "code",
   "execution_count": 29,
   "metadata": {},
   "outputs": [],
   "source": [
    "import numpy as np\n",
    "import sys\n",
    "sys.path.insert(1, \"..\")\n",
    "import os\n",
    "import json\n",
    "import random\n",
    "import shutil\n",
    "import tsplib95"
   ]
  },
  {
   "cell_type": "code",
   "execution_count": 47,
   "metadata": {},
   "outputs": [],
   "source": [
    "def extract_num_from_str(text):\n",
    "    res = [i for i in text if i.isdigit()]\n",
    "    return int(\"\".join(res))"
   ]
  },
  {
   "cell_type": "code",
   "execution_count": 46,
   "metadata": {},
   "outputs": [],
   "source": [
    "def get_edge_weight_type(tsp_path, tsp_name):\n",
    "    problem = tsplib95.load(f\"{tsp_path}/{tsp_name}\")\n",
    "    edge_weight_type = problem.as_dict()[\"edge_weight_type\"]\n",
    "    return edge_weight_type"
   ]
  },
  {
   "cell_type": "code",
   "execution_count": 52,
   "metadata": {},
   "outputs": [
    {
     "data": {
      "text/plain": [
       "49"
      ]
     },
     "execution_count": 52,
     "metadata": {},
     "output_type": "execute_result"
    }
   ],
   "source": [
    "# save tsp lib instaces in custom format\n",
    "\n",
    "tsp_path = \"../data/test_sets/tsplib\"\n",
    "tsp_names = [fname for fname in os.listdir(tsp_path) if \".tsp\" in fname]\n",
    "# only use instances below 1000 nodes\n",
    "tsp_reduced = [fname for fname in tsp_names if extract_num_from_str(fname) <= 1000]\n",
    "# only use euc2d instances\n",
    "tsp_euc2d = [fname for fname in tsp_reduced if get_edge_weight_type(tsp_path, fname) == \"EUC_2D\"]\n",
    "len(tsp_euc2d)"
   ]
  },
  {
   "cell_type": "code",
   "execution_count": null,
   "metadata": {},
   "outputs": [],
   "source": [
    "# convert node coords into [0,1] square\n",
    "for fname in tsp_euc2d:\n",
    "    problem = tsplib95.load(f\"{tsp_path}/{fname}\")\n",
    "    # print(problem.as_dict()[\"node_coords\"])"
   ]
  },
  {
   "cell_type": "code",
   "execution_count": 53,
   "metadata": {},
   "outputs": [],
   "source": [
    "# save selected files into new folder\n",
    "num_instances = len(tsp_euc2d)\n",
    "save_path = f\"../data/test_sets/tsplib_orig_n_1000_{num_instances}\"\n",
    "if not os.path.exists(save_path):\n",
    "    os.makedirs(save_path)\n",
    "for fname in tsp_euc2d:\n",
    "    shutil.copy(f\"{tsp_path}/{fname}\", save_path)"
   ]
  },
  {
   "cell_type": "code",
   "execution_count": null,
   "metadata": {},
   "outputs": [],
   "source": [
    "#  solve files with pyconcorde --> save solutions as json\n",
    "#  convert files to custom format"
   ]
  }
 ],
 "metadata": {
  "interpreter": {
   "hash": "5e6621387889b70cdd8f73a623ec71bd71fd792d1c8ad891fb3aeae9b80ab9e7"
  },
  "kernelspec": {
   "display_name": "Python 3.7.11 ('rltsp')",
   "language": "python",
   "name": "python3"
  },
  "language_info": {
   "codemirror_mode": {
    "name": "ipython",
    "version": 3
   },
   "file_extension": ".py",
   "mimetype": "text/x-python",
   "name": "python",
   "nbconvert_exporter": "python",
   "pygments_lexer": "ipython3",
   "version": "3.7.11"
  },
  "orig_nbformat": 4
 },
 "nbformat": 4,
 "nbformat_minor": 2
}
