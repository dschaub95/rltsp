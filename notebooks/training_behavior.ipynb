{
 "cells": [
  {
   "cell_type": "code",
   "execution_count": 1,
   "metadata": {},
   "outputs": [],
   "source": [
    "%load_ext autoreload\n",
    "%autoreload 2"
   ]
  },
  {
   "cell_type": "code",
   "execution_count": 28,
   "metadata": {},
   "outputs": [],
   "source": [
    "import pandas as pd\n",
    "import numpy as np\n",
    "import networkx as nx\n",
    "from itertools import combinations\n",
    "import matplotlib.pyplot as plt\n",
    "import wandb\n",
    "import sys\n",
    "import json\n",
    "import os\n",
    "sys.path.insert(1, '..')\n",
    "from main_code.utils.visualization.tsp_plotter import TSP_plotter\n",
    "from main_code.utils.wandb.wandb_api import get_table_data_from_url, get_data_for_run\n",
    "from main_code.utils.data.data_sets import DiskTSPTestSet\n",
    "from main_code.utils.visualization.plot_functions import *"
   ]
  },
  {
   "cell_type": "code",
   "execution_count": 7,
   "metadata": {},
   "outputs": [],
   "source": [
    "run_ids = [\"1q6fk4ry\", \"24z6co27\"]\n",
    "run_names = [f\"dschaub/rltsp/{run_id}\" for run_id in run_ids]"
   ]
  },
  {
   "cell_type": "code",
   "execution_count": 25,
   "metadata": {},
   "outputs": [],
   "source": [
    "def get_data_for_run_name(run_name):\n",
    "    # load data from wandb\n",
    "    api = wandb.Api()\n",
    "    # https://docs.wandb.ai/ref/python/public-api/run#files\n",
    "    run = api.run(run_name)\n",
    "    run_data = get_data_for_run(run)\n",
    "    return run_data"
   ]
  },
  {
   "cell_type": "code",
   "execution_count": 26,
   "metadata": {},
   "outputs": [],
   "source": [
    "data_list = []\n",
    "for run_name in run_names:\n",
    "    data_list.append(get_data_for_run_name(run_name))"
   ]
  },
  {
   "cell_type": "markdown",
   "metadata": {},
   "source": [
    "### Training plots"
   ]
  },
  {
   "cell_type": "code",
   "execution_count": 32,
   "metadata": {},
   "outputs": [
    {
     "data": {
      "text/html": [
       "<div>\n",
       "<style scoped>\n",
       "    .dataframe tbody tr th:only-of-type {\n",
       "        vertical-align: middle;\n",
       "    }\n",
       "\n",
       "    .dataframe tbody tr th {\n",
       "        vertical-align: top;\n",
       "    }\n",
       "\n",
       "    .dataframe thead th {\n",
       "        text-align: right;\n",
       "    }\n",
       "</style>\n",
       "<table border=\"1\" class=\"dataframe\">\n",
       "  <thead>\n",
       "    <tr style=\"text-align: right;\">\n",
       "      <th></th>\n",
       "      <th>valid/best_avg_error</th>\n",
       "      <th>_step</th>\n",
       "      <th>train/actor_loss</th>\n",
       "      <th>valid/avg_length</th>\n",
       "      <th>valid/best_avg_length</th>\n",
       "      <th>_runtime</th>\n",
       "      <th>valid/avg_error</th>\n",
       "      <th>train/avg_length</th>\n",
       "      <th>_timestamp</th>\n",
       "    </tr>\n",
       "  </thead>\n",
       "  <tbody>\n",
       "    <tr>\n",
       "      <th>0</th>\n",
       "      <td>0.728458</td>\n",
       "      <td>0</td>\n",
       "      <td>-0.137975</td>\n",
       "      <td>3.860994</td>\n",
       "      <td>3.860994</td>\n",
       "      <td>141</td>\n",
       "      <td>0.728458</td>\n",
       "      <td>3.860109</td>\n",
       "      <td>1646414235</td>\n",
       "    </tr>\n",
       "    <tr>\n",
       "      <th>1</th>\n",
       "      <td>0.566758</td>\n",
       "      <td>1</td>\n",
       "      <td>-0.077013</td>\n",
       "      <td>3.854812</td>\n",
       "      <td>3.854812</td>\n",
       "      <td>274</td>\n",
       "      <td>0.566758</td>\n",
       "      <td>3.847998</td>\n",
       "      <td>1646414368</td>\n",
       "    </tr>\n",
       "    <tr>\n",
       "      <th>2</th>\n",
       "      <td>0.433122</td>\n",
       "      <td>2</td>\n",
       "      <td>-0.057328</td>\n",
       "      <td>3.849635</td>\n",
       "      <td>3.849635</td>\n",
       "      <td>406</td>\n",
       "      <td>0.433122</td>\n",
       "      <td>3.847848</td>\n",
       "      <td>1646414500</td>\n",
       "    </tr>\n",
       "    <tr>\n",
       "      <th>3</th>\n",
       "      <td>0.346387</td>\n",
       "      <td>3</td>\n",
       "      <td>-0.045737</td>\n",
       "      <td>3.846271</td>\n",
       "      <td>3.846271</td>\n",
       "      <td>537</td>\n",
       "      <td>0.346387</td>\n",
       "      <td>3.848374</td>\n",
       "      <td>1646414631</td>\n",
       "    </tr>\n",
       "    <tr>\n",
       "      <th>4</th>\n",
       "      <td>0.307254</td>\n",
       "      <td>4</td>\n",
       "      <td>-0.035785</td>\n",
       "      <td>3.844785</td>\n",
       "      <td>3.844785</td>\n",
       "      <td>673</td>\n",
       "      <td>0.307254</td>\n",
       "      <td>3.841936</td>\n",
       "      <td>1646414767</td>\n",
       "    </tr>\n",
       "    <tr>\n",
       "      <th>...</th>\n",
       "      <td>...</td>\n",
       "      <td>...</td>\n",
       "      <td>...</td>\n",
       "      <td>...</td>\n",
       "      <td>...</td>\n",
       "      <td>...</td>\n",
       "      <td>...</td>\n",
       "      <td>...</td>\n",
       "      <td>...</td>\n",
       "    </tr>\n",
       "    <tr>\n",
       "      <th>1745</th>\n",
       "      <td>0.019840</td>\n",
       "      <td>1745</td>\n",
       "      <td>-0.001026</td>\n",
       "      <td>3.833962</td>\n",
       "      <td>3.833594</td>\n",
       "      <td>275980</td>\n",
       "      <td>0.029408</td>\n",
       "      <td>3.827870</td>\n",
       "      <td>1646690074</td>\n",
       "    </tr>\n",
       "    <tr>\n",
       "      <th>1746</th>\n",
       "      <td>0.019840</td>\n",
       "      <td>1746</td>\n",
       "      <td>-0.001011</td>\n",
       "      <td>3.834076</td>\n",
       "      <td>3.833594</td>\n",
       "      <td>276125</td>\n",
       "      <td>0.032367</td>\n",
       "      <td>3.835988</td>\n",
       "      <td>1646690219</td>\n",
       "    </tr>\n",
       "    <tr>\n",
       "      <th>1747</th>\n",
       "      <td>0.019840</td>\n",
       "      <td>1747</td>\n",
       "      <td>-0.001445</td>\n",
       "      <td>3.833904</td>\n",
       "      <td>3.833594</td>\n",
       "      <td>276271</td>\n",
       "      <td>0.027773</td>\n",
       "      <td>3.838076</td>\n",
       "      <td>1646690365</td>\n",
       "    </tr>\n",
       "    <tr>\n",
       "      <th>1748</th>\n",
       "      <td>0.019840</td>\n",
       "      <td>1748</td>\n",
       "      <td>-0.000592</td>\n",
       "      <td>3.833704</td>\n",
       "      <td>3.833594</td>\n",
       "      <td>276415</td>\n",
       "      <td>0.022695</td>\n",
       "      <td>3.825556</td>\n",
       "      <td>1646690509</td>\n",
       "    </tr>\n",
       "    <tr>\n",
       "      <th>1749</th>\n",
       "      <td>0.019840</td>\n",
       "      <td>1749</td>\n",
       "      <td>-0.000815</td>\n",
       "      <td>3.833865</td>\n",
       "      <td>3.833594</td>\n",
       "      <td>276560</td>\n",
       "      <td>0.026671</td>\n",
       "      <td>3.834946</td>\n",
       "      <td>1646690654</td>\n",
       "    </tr>\n",
       "  </tbody>\n",
       "</table>\n",
       "<p>1750 rows × 9 columns</p>\n",
       "</div>"
      ],
      "text/plain": [
       "      valid/best_avg_error  _step  train/actor_loss  valid/avg_length  \\\n",
       "0                 0.728458      0         -0.137975          3.860994   \n",
       "1                 0.566758      1         -0.077013          3.854812   \n",
       "2                 0.433122      2         -0.057328          3.849635   \n",
       "3                 0.346387      3         -0.045737          3.846271   \n",
       "4                 0.307254      4         -0.035785          3.844785   \n",
       "...                    ...    ...               ...               ...   \n",
       "1745              0.019840   1745         -0.001026          3.833962   \n",
       "1746              0.019840   1746         -0.001011          3.834076   \n",
       "1747              0.019840   1747         -0.001445          3.833904   \n",
       "1748              0.019840   1748         -0.000592          3.833704   \n",
       "1749              0.019840   1749         -0.000815          3.833865   \n",
       "\n",
       "      valid/best_avg_length  _runtime  valid/avg_error  train/avg_length  \\\n",
       "0                  3.860994       141         0.728458          3.860109   \n",
       "1                  3.854812       274         0.566758          3.847998   \n",
       "2                  3.849635       406         0.433122          3.847848   \n",
       "3                  3.846271       537         0.346387          3.848374   \n",
       "4                  3.844785       673         0.307254          3.841936   \n",
       "...                     ...       ...              ...               ...   \n",
       "1745               3.833594    275980         0.029408          3.827870   \n",
       "1746               3.833594    276125         0.032367          3.835988   \n",
       "1747               3.833594    276271         0.027773          3.838076   \n",
       "1748               3.833594    276415         0.022695          3.825556   \n",
       "1749               3.833594    276560         0.026671          3.834946   \n",
       "\n",
       "      _timestamp  \n",
       "0     1646414235  \n",
       "1     1646414368  \n",
       "2     1646414500  \n",
       "3     1646414631  \n",
       "4     1646414767  \n",
       "...          ...  \n",
       "1745  1646690074  \n",
       "1746  1646690219  \n",
       "1747  1646690365  \n",
       "1748  1646690509  \n",
       "1749  1646690654  \n",
       "\n",
       "[1750 rows x 9 columns]"
      ]
     },
     "execution_count": 32,
     "metadata": {},
     "output_type": "execute_result"
    }
   ],
   "source": [
    "history_df_list = [data[\"history\"] for data in data_list]\n",
    "# do some processing if necessary\n",
    "history_df_list[0]"
   ]
  },
  {
   "cell_type": "code",
   "execution_count": 38,
   "metadata": {},
   "outputs": [
    {
     "data": {
      "image/png": "[encoded data removed]",
      "text/plain": [
       "<Figure size 407.52x252 with 1 Axes>"
      ]
     },
     "metadata": {
      "needs_background": "light"
     },
     "output_type": "display_data"
    }
   ],
   "source": [
    "line_plot(\n",
    "    history_df_list, \n",
    "    xvalue='_step', \n",
    "    yvalue=\"valid/avg_error\", \n",
    "    labels=[\"TSP20 training\", \"TSP50 training\"], \n",
    "    save_path=\"../results/plots/training_error.png\",\n",
    "    highlight_min=True\n",
    ")"
   ]
  },
  {
   "cell_type": "code",
   "execution_count": 35,
   "metadata": {},
   "outputs": [
    {
     "data": {
      "image/png": "[encoded data removed]",
      "text/plain": [
       "<Figure size 407.52x252 with 1 Axes>"
      ]
     },
     "metadata": {
      "needs_background": "light"
     },
     "output_type": "display_data"
    }
   ],
   "source": [
    "line_plot(\n",
    "    history_df_list, \n",
    "    xvalue='_step', \n",
    "    yvalue=\"train/actor_loss\", \n",
    "    labels=[\"TSP20 training\", \"TSP50 training\"], \n",
    "    ylabel=\"Training loss\",\n",
    "    save_path=\"../results/plots/training_loss.png\",\n",
    ")"
   ]
  }
 ],
 "metadata": {
  "interpreter": {
   "hash": "5e6621387889b70cdd8f73a623ec71bd71fd792d1c8ad891fb3aeae9b80ab9e7"
  },
  "kernelspec": {
   "display_name": "Python 3.7.11 ('rltsp')",
   "language": "python",
   "name": "python3"
  },
  "language_info": {
   "codemirror_mode": {
    "name": "ipython",
    "version": 3
   },
   "file_extension": ".py",
   "mimetype": "text/x-python",
   "name": "python",
   "nbconvert_exporter": "python",
   "pygments_lexer": "ipython3",
   "version": "3.7.11"
  },
  "orig_nbformat": 4
 },
 "nbformat": 4,
 "nbformat_minor": 2
}
