{
 "cells": [
  {
   "cell_type": "code",
   "execution_count": 13,
   "metadata": {},
   "outputs": [],
   "source": [
    "import json\n",
    "import os\n",
    "import numpy as np"
   ]
  },
  {
   "cell_type": "code",
   "execution_count": 15,
   "metadata": {},
   "outputs": [],
   "source": [
    "def get_solution_data(dataset_path):\n",
    "    solution_data = []\n",
    "    for problem in os.listdir(dataset_path):\n",
    "        with open(f'{dataset_path}/{problem}/solution.txt') as f:\n",
    "            solution_data.append(json.load(f))\n",
    "    return solution_data"
   ]
  },
  {
   "cell_type": "code",
   "execution_count": 18,
   "metadata": {},
   "outputs": [
    {
     "name": "stdout",
     "output_type": "stream",
     "text": [
      "12.951262791100003\n",
      "0.21488579398688729\n"
     ]
    }
   ],
   "source": [
    "# calculate average solution length\n",
    "test_set_path = '../data/test_sets/uniform_n_300_100'\n",
    "solution_data = get_solution_data(test_set_path)\n",
    "problem_lengths = [solution_dict['opt_tour_length'] for solution_dict in solution_data]\n",
    "print(np.mean(problem_lengths))\n",
    "print(np.std(problem_lengths))"
   ]
  },
  {
   "cell_type": "code",
   "execution_count": 19,
   "metadata": {},
   "outputs": [
    {
     "name": "stdout",
     "output_type": "stream",
     "text": [
      "14.8900295527\n",
      "0.19318640272621987\n"
     ]
    }
   ],
   "source": [
    "# calculate average solution length\n",
    "test_set_path = '../data/test_sets/uniform_n_400_100'\n",
    "solution_data = get_solution_data(test_set_path)\n",
    "problem_lengths = [solution_dict['opt_tour_length'] for solution_dict in solution_data]\n",
    "print(np.mean(problem_lengths))\n",
    "print(np.std(problem_lengths))"
   ]
  }
 ],
 "metadata": {
  "interpreter": {
   "hash": "6a4552a38ede0dbba2dae3a567f736a05668c41e7d34c93511e88900f14399c1"
  },
  "kernelspec": {
   "display_name": "Python 3.7.11 64-bit ('tsp': conda)",
   "language": "python",
   "name": "python3"
  },
  "language_info": {
   "codemirror_mode": {
    "name": "ipython",
    "version": 3
   },
   "file_extension": ".py",
   "mimetype": "text/x-python",
   "name": "python",
   "nbconvert_exporter": "python",
   "pygments_lexer": "ipython3",
   "version": "3.7.11"
  },
  "orig_nbformat": 4
 },
 "nbformat": 4,
 "nbformat_minor": 2
}
