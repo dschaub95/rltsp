{
 "cells": [
  {
   "cell_type": "code",
   "execution_count": 2,
   "metadata": {},
   "outputs": [],
   "source": [
    "import sys\n",
    "sys.path.insert(1, '..')\n",
    "from main_code.utils.config.config import Config\n",
    "from main_code.tester.tsp_tester import TSPTester\n",
    "\n",
    "class LampenergyForecastingConfig(Config):\n",
    "\n",
    "    def __init__(self, config_yaml=None) -> None:\n",
    "\n",
    "        # forecasting performer sub config\n",
    "\n",
    "        self.performer_config = Config()\n",
    "\n",
    "        self.performer_config.set_defaults(TSPTester)\n",
    "\n"
   ]
  },
  {
   "cell_type": "code",
   "execution_count": 3,
   "metadata": {},
   "outputs": [
    {
     "data": {
      "text/html": [
       "<div>\n",
       "<style scoped>\n",
       "    .dataframe tbody tr th:only-of-type {\n",
       "        vertical-align: middle;\n",
       "    }\n",
       "\n",
       "    .dataframe tbody tr th {\n",
       "        vertical-align: top;\n",
       "    }\n",
       "\n",
       "    .dataframe thead th {\n",
       "        text-align: right;\n",
       "    }\n",
       "</style>\n",
       "<table border=\"1\" class=\"dataframe\">\n",
       "  <thead>\n",
       "    <tr style=\"text-align: right;\">\n",
       "      <th></th>\n",
       "      <th>performer_config</th>\n",
       "    </tr>\n",
       "  </thead>\n",
       "  <tbody>\n",
       "    <tr>\n",
       "      <th>num_trajectories</th>\n",
       "      <td>1</td>\n",
       "    </tr>\n",
       "    <tr>\n",
       "      <th>num_nodes</th>\n",
       "      <td>20</td>\n",
       "    </tr>\n",
       "    <tr>\n",
       "      <th>num_samples</th>\n",
       "      <td>10000.0</td>\n",
       "    </tr>\n",
       "    <tr>\n",
       "      <th>sampling_steps</th>\n",
       "      <td>1</td>\n",
       "    </tr>\n",
       "    <tr>\n",
       "      <th>use_pomo_aug</th>\n",
       "      <td>False</td>\n",
       "    </tr>\n",
       "    <tr>\n",
       "      <th>test_set_path</th>\n",
       "      <td>None</td>\n",
       "    </tr>\n",
       "    <tr>\n",
       "      <th>test_batch_size</th>\n",
       "      <td>1024</td>\n",
       "    </tr>\n",
       "  </tbody>\n",
       "</table>\n",
       "</div>"
      ],
      "text/plain": [
       "                 performer_config\n",
       "num_trajectories                1\n",
       "num_nodes                      20\n",
       "num_samples               10000.0\n",
       "sampling_steps                  1\n",
       "use_pomo_aug                False\n",
       "test_set_path                None\n",
       "test_batch_size              1024"
      ]
     },
     "execution_count": 3,
     "metadata": {},
     "output_type": "execute_result"
    }
   ],
   "source": [
    "trest = LampenergyForecastingConfig()\n",
    "trest.to_df()"
   ]
  },
  {
   "cell_type": "code",
   "execution_count": 38,
   "metadata": {},
   "outputs": [
    {
     "data": {
      "text/plain": [
       "[(array([[0.27911984, 0.47287709],\n",
       "         [0.81496336, 0.70076588],\n",
       "         [0.45440156, 0.15589319]]),\n",
       "  array([0.31485648, 0.36485509, 0.57756984, 0.78475044, 0.26351264]),\n",
       "  0.5935635941130768),\n",
       " (array([[0.06172984, 0.59147676],\n",
       "         [0.168262  , 0.32263822],\n",
       "         [0.94579896, 0.70738247]]),\n",
       "  array([0.54323135, 0.39979627, 0.58416065, 0.83135756, 0.01578773]),\n",
       "  -0.3864225551680165)]"
      ]
     },
     "execution_count": 38,
     "metadata": {},
     "output_type": "execute_result"
    }
   ],
   "source": [
    "import numpy as np\n",
    "result = []\n",
    "for i in range(2):\n",
    "    x = np.random.rand(3,2)\n",
    "    y = np.random.rand(5,)\n",
    "    z = np.random.randn()\n",
    "\n",
    "    test = (x,y,z)\n",
    "    result.append(test)\n",
    "result    \n"
   ]
  },
  {
   "cell_type": "code",
   "execution_count": 46,
   "metadata": {},
   "outputs": [],
   "source": [
    "\n",
    "tmp_arr = np.array(result, dtype=object)\n",
    "batch_s = tmp_arr.shape[0]\n",
    "node_feats = np.concatenate(tmp_arr[:,0]).reshape(batch_s,-1, 2)\n",
    "opt_tour = np.concatenate(tmp_arr[:,1]).reshape(batch_s,-1).astype(np.int8)\n",
    "opt_tour_len = tmp_arr[:,2].astype(np.float64)"
   ]
  },
  {
   "cell_type": "code",
   "execution_count": 47,
   "metadata": {},
   "outputs": [
    {
     "data": {
      "text/plain": [
       "array([[0, 0, 0, 0, 0],\n",
       "       [0, 0, 0, 0, 0]], dtype=int8)"
      ]
     },
     "execution_count": 47,
     "metadata": {},
     "output_type": "execute_result"
    }
   ],
   "source": [
    "opt_tour"
   ]
  },
  {
   "cell_type": "code",
   "execution_count": 31,
   "metadata": {},
   "outputs": [
    {
     "data": {
      "text/plain": [
       "array([2., 2.])"
      ]
     },
     "execution_count": 31,
     "metadata": {},
     "output_type": "execute_result"
    }
   ],
   "source": [
    "arr = np.array(result, dtype=object)[:,1]\n",
    "arr.astype(np.float64)"
   ]
  },
  {
   "cell_type": "code",
   "execution_count": 3,
   "metadata": {},
   "outputs": [
    {
     "name": "stdout",
     "output_type": "stream",
     "text": [
      "[2, 34, 5, 6, 7]\n"
     ]
    }
   ],
   "source": [
    "class test:\n",
    "    def __init__(self, popo) -> None:\n",
    "        self.popo = popo\n",
    "\n",
    "popo = [1,2,34,5,6,7]\n",
    "test1 = test(popo)\n",
    "test1.popo.pop(0)\n",
    "print(popo)"
   ]
  }
 ],
 "metadata": {
  "interpreter": {
   "hash": "6a4552a38ede0dbba2dae3a567f736a05668c41e7d34c93511e88900f14399c1"
  },
  "kernelspec": {
   "display_name": "Python 3.7.11 64-bit ('tsp': conda)",
   "language": "python",
   "name": "python3"
  },
  "language_info": {
   "codemirror_mode": {
    "name": "ipython",
    "version": 3
   },
   "file_extension": ".py",
   "mimetype": "text/x-python",
   "name": "python",
   "nbconvert_exporter": "python",
   "pygments_lexer": "ipython3",
   "version": "3.7.11"
  },
  "orig_nbformat": 4
 },
 "nbformat": 4,
 "nbformat_minor": 2
}
