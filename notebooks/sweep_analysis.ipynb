{
 "cells": [
  {
   "cell_type": "code",
   "execution_count": 1,
   "metadata": {},
   "outputs": [],
   "source": [
    "%load_ext autoreload\n",
    "%autoreload 2"
   ]
  },
  {
   "cell_type": "code",
   "execution_count": 4,
   "metadata": {},
   "outputs": [],
   "source": [
    "import pandas as pd\n",
    "import numpy as np\n",
    "import networkx as nx\n",
    "from itertools import combinations\n",
    "import matplotlib.pyplot as plt\n",
    "import wandb\n",
    "import sys\n",
    "import json\n",
    "import os\n",
    "sys.path.insert(1, '..')\n",
    "from main_code.utils.visualization.tsp_plotter import TSP_plotter\n",
    "from main_code.utils.wandb.wandb_api import get_table_data_from_url, extract_data_from_sweep\n",
    "from main_code.utils.data.data_sets import DiskTSPTestSet\n",
    "from main_code.utils.data.utils import convert_tsp_to_nx, calc_tour_length"
   ]
  },
  {
   "cell_type": "code",
   "execution_count": 9,
   "metadata": {},
   "outputs": [],
   "source": [
    "sweep_path = \"dschaub/rltsp/ljwvf77t\"\n",
    "# download metrics only if necessary\n",
    "sweep_data = extract_data_from_sweep(sweep_path, download_tours=False, download_metrics=False)"
   ]
  },
  {
   "cell_type": "code",
   "execution_count": 12,
   "metadata": {},
   "outputs": [
    {
     "data": {
      "text/plain": [
       "-0.007143771508517685"
      ]
     },
     "execution_count": 12,
     "metadata": {},
     "output_type": "execute_result"
    }
   ],
   "source": [
    "sweep_data[0][\"summary\"][\"avg_error\"]"
   ]
  }
 ],
 "metadata": {
  "interpreter": {
   "hash": "5e6621387889b70cdd8f73a623ec71bd71fd792d1c8ad891fb3aeae9b80ab9e7"
  },
  "kernelspec": {
   "display_name": "Python 3.7.11 ('rltsp')",
   "language": "python",
   "name": "python3"
  },
  "language_info": {
   "codemirror_mode": {
    "name": "ipython",
    "version": 3
   },
   "file_extension": ".py",
   "mimetype": "text/x-python",
   "name": "python",
   "nbconvert_exporter": "python",
   "pygments_lexer": "ipython3",
   "version": "3.7.11"
  },
  "orig_nbformat": 4
 },
 "nbformat": 4,
 "nbformat_minor": 2
}
